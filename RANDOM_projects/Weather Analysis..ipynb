{
 "cells": [
  {
   "cell_type": "code",
   "execution_count": 1,
   "id": "02f4ff9e",
   "metadata": {},
   "outputs": [],
   "source": [
    " import pandas as pd"
   ]
  },
  {
   "cell_type": "code",
   "execution_count": null,
   "id": "c234903e",
   "metadata": {},
   "outputs": [],
   "source": [
    "Q. 1)  Find all the unique 'Wind Speed' values in the data.\n",
    "Q. 2) Find the number of times when the 'Weather is exactly Clear'.\n",
    "Q. 3) Find the number of times when the 'Wind Speed was exactly 4 km/h'.\n",
    "Q. 4) Find out all the Null Values in the data.\n",
    "Q. 5) Rename the column name 'Weather' of the dataframe to 'Weather Condition'.\n",
    "Q. 6) What is the mean 'Visibility' ?\n",
    "Q. 7) What is the Standard Deviation of 'Pressure'  in this data?\n",
    "Q. 8) What is the Variance of 'Relative Humidity' in this data ?\n",
    "Q. 9) Find all instances when 'Snow' was recorded.\n",
    "Q. 10) Find all instances when 'Wind Speed is above 24' and 'Visibility is 25'.\n",
    "Q. 11) What is the Mean value of each column against each 'Weather Condition ?\n",
    "Q. 12) What is the Minimum & Maximum value of each column against each 'Weather Condition ?\n",
    "Q. 13) Show all the Records where Weather Condition is Fog.\n",
    "Q. 14) Find all instances when 'Weather is Clear' or 'Visibility is above 40'.\n",
    "Q. 15) Find all instances when :"
   ]
  },
  {
   "cell_type": "code",
   "execution_count": null,
   "id": "507cc2fc",
   "metadata": {},
   "outputs": [],
   "source": [
    "data =pd.read_csv()"
   ]
  }
 ],
 "metadata": {
  "kernelspec": {
   "display_name": "Python 3 (ipykernel)",
   "language": "python",
   "name": "python3"
  },
  "language_info": {
   "codemirror_mode": {
    "name": "ipython",
    "version": 3
   },
   "file_extension": ".py",
   "mimetype": "text/x-python",
   "name": "python",
   "nbconvert_exporter": "python",
   "pygments_lexer": "ipython3",
   "version": "3.10.8"
  }
 },
 "nbformat": 4,
 "nbformat_minor": 5
}
