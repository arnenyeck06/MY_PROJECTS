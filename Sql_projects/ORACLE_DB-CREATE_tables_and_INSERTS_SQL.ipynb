{
 "cells": [
  {
   "cell_type": "code",
   "execution_count": null,
   "id": "3e2c09fd",
   "metadata": {},
   "outputs": [],
   "source": [
    "CREATE table STUDENT (\n",
    "SNUMB VARCHAR(30) not null,\n",
    "LNAME VARCHAR(38) NOT null,\n",
    "MAJOR VARCHAR (38) not null,\n",
    "MINOR VARCHAR(30) NOT null,\n",
    "ADVISOR_TNUMB VARCHAR (30) NOT NULL,\n",
    "SEX VARCHAR (30) NOT NULL,\n",
    "CONSTRAINT SNUMB_PK PRIMARY KEY(SNUMB));\n",
    "   \n",
    "INSERT INTO STUDENT VALUES ('S234','Thompson','mkt','comp-sci','t96','f');\n",
    "INSERT INTO STUDENT VALUES ('S567','Black','eet','math','t82','f');\n",
    "INSERT INTO STUDENT VALUES ('S100','Smith','mgt','finance','t5','f');\n",
    "INSERT INTO STUDENT VALUES ('S123','Smith','comp-sci','acct','t98','m');\n",
    "INSERT INTO STUDENT VALUES ('S678','James','comp-sci','mkt','t96','m');\n",
    "INSERT INTO STUDENT VALUES ('S345','Young','comp-sci','math','t82','m');\n",
    "INSERT INTO STUDENT VALUES ('S124','Jones','acct','mgt','t42','f');\n",
    "INSERT INTO STUDENT VALUES ('S200','Jhonson','comp-sci','math','t21','m');\n",
    "INSERT INTO STUDENT VALUES ('S456','Green','math','comp-sci','t98','m');\n",
    "\n",
    "\n"
   ]
  },
  {
   "cell_type": "code",
   "execution_count": null,
   "id": "b6bbb86d",
   "metadata": {},
   "outputs": [],
   "source": [
    "\n",
    "DROP TABLE DEPT_CHAIR;\n",
    "create table DEPT_CHAIR (\n",
    "    DNO VARCHAR(5) not null,\n",
    "    TNUMB VARCHAR(5) NOT NULL,\n",
    "    START_DATE DATE,\n",
    "    END_DATE DATE,\n",
    "    CONSTRAINT DNO_FK3 FOREIGN KEY (DNO) REFERENCES DEPARTMENT(DNO),\n",
    "    CONSTRAINT TNUMB_FK3 FOREIGN KEY (TNUMB) REFERENCES TEACHER(TNUMB)\n",
    ");\n",
    "\n",
    "INSERT INTO DEPT_CHAIR VALUES('d11','t21','1-Sep-2002','30-Aug-2001');\n",
    "INSERT INTO DEPT_CHAIR VALUES('d11','t79','1-Sep-2011','30-Aug-2014');\n",
    "INSERT INTO DEPT_CHAIR VALUES('d11','t42','1-Sep-2012','30-Aug-2018');\n",
    "INSERT INTO DEPT_CHAIR VALUES('d11','t75','1-Sep-2018',NULL);\n",
    "INSERT INTO DEPT_CHAIR VALUES('d14','t9','1-Sep-2013', NULL);\n",
    "INSERT INTO DEPT_CHAIR VALUES('d5','t96','1-Sep-2002', NULL);\n",
    "INSERT INTO DEPT_CHAIR VALUES('d9','t5','1-Sep-2008',NULL);\n"
   ]
  },
  {
   "cell_type": "code",
   "execution_count": null,
   "id": "4e8f1b85",
   "metadata": {},
   "outputs": [],
   "source": [
    "DROP TABLE TEACHER_RANK\n",
    "CREATE TABLE TEACHER_RANK (\n",
    "RANKID VARCHAR(5) PRIMARY KEY NOT NULL,\n",
    "RANK_TITLE VARCHAR(50) NOT NULL);\n",
    "\n",
    "INSERT INTO TEACHER_RANK VALUES('1','PROFESSOR');\n",
    "INSERT INTO TEACHER_RANK VALUES('2','ASSOCIATE PROFESSOR');\n",
    "INSERT INTO TEACHER_RANK VALUES('3','ASSISTANT PROFESSOR');\n",
    "INSERT INTO TEACHER_RANK VALUES('4','INSTRUCTOR');\n",
    "INSERT INTO TEACHER_RANK VALUES('5','ADJUNCT');\n",
    "INSERT INTO TEACHER_RANK VALUES('6','TEACHING_ASSISTANT');\n",
    "SELECT * FROM TEACHER_RANK;\n"
   ]
  },
  {
   "cell_type": "code",
   "execution_count": null,
   "id": "5a967852",
   "metadata": {},
   "outputs": [],
   "source": [
    "DROP TABLE RANK_SAL_RANGE;\n",
    "CREATE TABLE RANK_SAL_RANGE(\n",
    "RANKID VARCHAR(5) NOT NULL,\n",
    "START_AMT NUMBER(8) NOT NULL,\n",
    "END_AMT NUMBER(8) NOT NULL,\n",
    "CONSTRAINT RANKID_FK FOREIGN KEY (RANKID) REFERENCES TEACHER_RANK(RANKID));\n",
    "\n",
    "INSERT INTO RANK_SAL_RANGE VALUES('1', 120000, 180000);\n",
    "INSERT INTO RANK_SAL_RANGE VALUES('2',100000, 119900);\n",
    "INSERT INTO RANK_SAL_RANGE VALUES('3', 82000, 99900);\n",
    "INSERT INTO RANK_SAL_RANGE VALUES('4', 50000, 79900);\n",
    "INSERT INTO RANK_SAL_RANGE VALUES('5', 6000, 12000);\n",
    "SELECT * FROM RANK_SAL_RANGE;\n"
   ]
  },
  {
   "cell_type": "code",
   "execution_count": null,
   "id": "d1fa9dcf",
   "metadata": {},
   "outputs": [],
   "source": [
    "CREATE TABLE TEACHER_RANK_SALARY(\n",
    "TNUMB VARCHAR(10) NOT NULL,\n",
    "RANKID VARCHAR(10) NOT NULL,\n",
    "SAL_AMT NUMBER(10) NOT NULL,\n",
    "END_DATE DATE,\n",
    "START_DATE DATE PRIMARY KEY,\n",
    "CONSTRAINT TNUMB_FK4 FOREIGN KEY (TNUMB) REFERENCES TEACHER(TNUMB),\n",
    "CONSTRAINT RANKID_FK2 FOREIGN KEY (RANKID) REFERENCES TEACHER_RANK(RANKID));\n",
    "\n",
    "\n",
    "INSERT INTO TEACHER_RANK_SALARY VALUES('t96', 1, 120000, NULL, '01-Jan-20');\n",
    "INSERT INTO TEACHER_RANK_SALARY VALUES('t96', 2, 115000, '30-Dec-2019', NULL);\n",
    "INSERT INTO TEACHER_RANK_SALARY VALUES('t96', 3, 92000, '12-Dec-2012', '01-Sep-07');\n",
    "INSERT INTO TEACHER_RANK_SALARY VALUES('t21', 2, 100000, NULL, '01-Sep-18');\n",
    "INSERT INTO TEACHER_RANK_SALARY VALUES('t21', 3, 78000,'30-AUG-2018', '01-Sep-10');\n",
    "INSERT INTO TEACHER_RANK_SALARY VALUES('t79', 3, 80000, NULL, '01-Sep-15');\n",
    "INSERT INTO TEACHER_RANK_SALARY VALUES('t42', 4, 60000, NULL, '01-Jan-18');\n",
    "INSERT INTO TEACHER_RANK_SALARY VALUES('t5', 1, 130000, NULL, '01-Sep-17');\n",
    "INSERT INTO TEACHER_RANK_SALARY VALUES('t5', 2, 119000, '30-Aug-2017', '01-Sep-06');\n",
    "INSERT INTO TEACHER_RANK_SALARY VALUES('t9', 3, 85000, NULL, '01-Sep-06');\n",
    "INSERT INTO TEACHER_RANK_SALARY VALUES('t75', 2, 105000, NULL, '01-Sep-06');\n",
    "INSERT INTO TEACHER_RANK_SALARY VALUES('t100', 1, 140000, NULL, '01-Sep-16');\n",
    "\n"
   ]
  }
 ],
 "metadata": {
  "kernelspec": {
   "display_name": "Python 3 (ipykernel)",
   "language": "python",
   "name": "python3"
  },
  "language_info": {
   "codemirror_mode": {
    "name": "ipython",
    "version": 3
   },
   "file_extension": ".py",
   "mimetype": "text/x-python",
   "name": "python",
   "nbconvert_exporter": "python",
   "pygments_lexer": "ipython3",
   "version": "3.10.8"
  }
 },
 "nbformat": 4,
 "nbformat_minor": 5
}
